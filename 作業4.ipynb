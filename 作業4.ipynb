{
  "nbformat": 4,
  "nbformat_minor": 0,
  "metadata": {
    "colab": {
      "provenance": [],
      "authorship_tag": "ABX9TyNu82budmvuVuQsV+ijvdMR",
      "include_colab_link": true
    },
    "kernelspec": {
      "name": "python3",
      "display_name": "Python 3"
    },
    "language_info": {
      "name": "python"
    }
  },
  "cells": [
    {
      "cell_type": "markdown",
      "metadata": {
        "id": "view-in-github",
        "colab_type": "text"
      },
      "source": [
        "<a href=\"https://colab.research.google.com/github/3B133037/homework/blob/main/%E4%BD%9C%E6%A5%AD4.ipynb\" target=\"_parent\"><img src=\"https://colab.research.google.com/assets/colab-badge.svg\" alt=\"Open In Colab\"/></a>"
      ]
    },
    {
      "cell_type": "code",
      "execution_count": null,
      "metadata": {
        "id": "t39Edlwj3_aG"
      },
      "outputs": [],
      "source": [
        "from google.colab import drive\n",
        "drive.mount('/content/drive')\n"
      ]
    },
    {
      "cell_type": "code",
      "source": [
        "import os\n",
        "os.chdir('/content/drive/MyDrive/Colab Notebooks') \n",
        "\n",
        "import csv\n",
        "csvfile = open('pop.csv')  \n",
        "raw_data = csv.reader(csvfile) \n",
        "data = list(raw_data) \n",
        "\n",
        "wb = openpyxl.Workbook() \n",
        "sheet = wb.create_sheet('csv') \n",
        "for i in data:\n",
        "    sheet.append(i)\n",
        "wb.save('excel-read.xlsx')"
      ],
      "metadata": {
        "id": "tJR5uCaw4ERS"
      },
      "execution_count": null,
      "outputs": []
    },
    {
      "cell_type": "code",
      "source": [
        "!pip install matplotlib\n",
        "import matplotlib.pyplot as plt"
      ],
      "metadata": {
        "id": "zBSyI8ui4J1F"
      },
      "execution_count": null,
      "outputs": []
    },
    {
      "cell_type": "code",
      "source": [
        "df=pd.read_excel('excel-read.xlsx', sheet_name='csv')\n",
        "print(df)\n",
        "plt.plot(df['pop'],df['year'])\n",
        "plt.xlabel('pop')\n",
        "plt.ylabel('year')\n",
        "plt.title('line chart')\n",
        "plt.show()"
      ],
      "metadata": {
        "id": "JASO0S8F4pn4"
      },
      "execution_count": null,
      "outputs": []
    }
  ]
}