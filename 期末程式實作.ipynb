{
  "nbformat": 4,
  "nbformat_minor": 0,
  "metadata": {
    "colab": {
      "provenance": [],
      "authorship_tag": "ABX9TyN1NI+MZefkKr+3e7cmq94/",
      "include_colab_link": true
    },
    "kernelspec": {
      "name": "python3",
      "display_name": "Python 3"
    },
    "language_info": {
      "name": "python"
    }
  },
  "cells": [
    {
      "cell_type": "markdown",
      "metadata": {
        "id": "view-in-github",
        "colab_type": "text"
      },
      "source": [
        "<a href=\"https://colab.research.google.com/github/3B133037/homework/blob/main/%E6%9C%9F%E6%9C%AB%E7%A8%8B%E5%BC%8F%E5%AF%A6%E4%BD%9C.ipynb\" target=\"_parent\"><img src=\"https://colab.research.google.com/assets/colab-badge.svg\" alt=\"Open In Colab\"/></a>"
      ]
    },
    {
      "cell_type": "code",
      "execution_count": null,
      "metadata": {
        "id": "ZKrju5zOzDBK",
        "outputId": "30d85886-c9d6-4c1b-dab5-67c4f0117877",
        "colab": {
          "base_uri": "https://localhost:8080/"
        }
      },
      "outputs": [
        {
          "output_type": "stream",
          "name": "stdout",
          "text": [
            "A -> E -> D -> C -> B -> F -> G -> A\n",
            "總花費： 48944.57613804574\n"
          ]
        }
      ],
      "source": [
        "import math\n",
        "\n",
        "class City:\n",
        "    def __init__(self, name, coordinates, accommodation_cost):\n",
        "        self.name = name\n",
        "        self.coordinates = coordinates\n",
        "        self.accommodation_cost = accommodation_cost\n",
        "\n",
        "def calculate_discount(previous_city, current_city):\n",
        "    discount = 1.0\n",
        "    if previous_city is not None:\n",
        "        if previous_city.name in ['C', 'G'] and current_city.name == 'A':\n",
        "            discount = 0.8\n",
        "        elif previous_city.name in ['D', 'E'] and current_city.name == 'B':\n",
        "            discount = 0.8\n",
        "        elif previous_city.name in ['A', 'B'] and current_city.name == 'C':\n",
        "            discount = 0.8\n",
        "        elif previous_city.name in ['B', 'F'] and current_city.name == 'E':\n",
        "            discount = 0.8\n",
        "        elif previous_city.name in ['A', 'C'] and current_city.name == 'F':\n",
        "            discount = 0.8\n",
        "        elif previous_city.name in ['E', 'F'] and current_city.name == 'G':\n",
        "            discount = 0.8\n",
        "    return discount\n",
        "\n",
        "# 建立城市物件\n",
        "cities = [\n",
        "    City('A', (0, 0), 2000),\n",
        "    City('B', (0, 120), 2400),\n",
        "    City('C', (30, 100), 2400),\n",
        "    City('D', (80, 0), 1600),\n",
        "    City('E', (45, 10), 1500),\n",
        "    City('F', (90, 160), 2200),\n",
        "    City('G', (120, 200), 1200)\n",
        "]\n",
        "\n",
        "# 計算遊歷花費最便宜的旅遊方案\n",
        "start_city = cities[0]\n",
        "current_city = start_city\n",
        "visited_cities = [current_city]\n",
        "total_cost = 0\n",
        "\n",
        "while len(visited_cities) < len(cities):\n",
        "    min_cost = math.inf\n",
        "    next_city = None\n",
        "\n",
        "    for city in cities:\n",
        "        if city not in visited_cities:\n",
        "            distance = math.sqrt((current_city.coordinates[0] - city.coordinates[0]) ** 2 + (current_city.coordinates[1] - city.coordinates[1]) ** 2)\n",
        "            discount = calculate_discount(current_city, city)\n",
        "            cost = distance * 100 + city.accommodation_cost * discount\n",
        "\n",
        "            if cost < min_cost:\n",
        "                min_cost = cost\n",
        "                next_city = city\n",
        "\n",
        "    visited_cities.append(next_city)\n",
        "    total_cost += min_cost\n",
        "    current_city = next_city\n",
        "\n",
        "# 列印遊歷順序\n",
        "for city in visited_cities:\n",
        "    print(city.name, end=' -> ')\n",
        "print(start_city.name)\n",
        "\n",
        "# 列印總花費\n",
        "print(\"總花費：\", total_cost)\n"
      ]
    }
  ]
}