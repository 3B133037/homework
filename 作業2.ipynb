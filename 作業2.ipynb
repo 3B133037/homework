{
  "nbformat": 4,
  "nbformat_minor": 0,
  "metadata": {
    "colab": {
      "provenance": [],
      "authorship_tag": "ABX9TyMlpgGlm+PYFT8O51vEmPwk",
      "include_colab_link": true
    },
    "kernelspec": {
      "name": "python3",
      "display_name": "Python 3"
    },
    "language_info": {
      "name": "python"
    }
  },
  "cells": [
    {
      "cell_type": "markdown",
      "metadata": {
        "id": "view-in-github",
        "colab_type": "text"
      },
      "source": [
        "<a href=\"https://colab.research.google.com/github/3B133037/homework/blob/main/%E4%BD%9C%E6%A5%AD2.ipynb\" target=\"_parent\"><img src=\"https://colab.research.google.com/assets/colab-badge.svg\" alt=\"Open In Colab\"/></a>"
      ]
    },
    {
      "cell_type": "code",
      "source": [
        "username = ' 大道之行也，天  下為公。 選賢與能，講信  修睦。故人不獨親其親，不獨子其子；使老有所終，壯有 所用，幼有 所長，矜寡孤獨廢疾者，皆有所養；男有分 女有歸。貨惡其棄 於地也不必藏於  己；力惡其不  出於身也不必為己。是故 謀閉而不興 ，盜竊亂賊而不作，故外戶而 不閉，是謂「大同」。 '\n",
        "username = username.replace(' ', '')\n",
        "print(username, 'len:', len(username))"
      ],
      "metadata": {
        "id": "y8BfqTDO7_ZG"
      },
      "execution_count": null,
      "outputs": []
    },
    {
      "cell_type": "markdown",
      "source": [
        "大道之行也，天下為公。選賢與能，講信修睦。故人不獨親其親，不獨子其子；使老有所終，壯有所用，幼有所長，矜寡孤獨廢疾者，皆有所養；男有分女有歸。貨惡其棄於地也不必藏於己；力惡其不出於身也不必為己。是故謀閉而不興，盜竊亂賊而不作，故外戶而不閉，是謂「大同」。 len: 127"
      ],
      "metadata": {
        "id": "X_UzwdCuyjEl"
      }
    },
    {
      "cell_type": "code",
      "source": [
        "a=' 大道之行也，天  下為公。 選賢與能，講信  修睦。故人不獨親其親，不獨子其子；使老有所終，壯有 所用，幼有 所長，矜寡孤獨廢疾者，皆有所養；男有分 女有歸。貨惡其棄 於地也不必藏於  己；力惡其不  出於身也不必為己。是故 謀閉而不興 ，盜竊亂賊而不作，故外戶而 不閉，是謂「大同」。'\n",
        "b=\"\\n\".join(a.split(\"，\"))\n",
        "c=\"\\n\".join(b.split(\"。\"))\n",
        "d=\"\\n\".join(c.split(\"；\"))\n",
        "print(d)"
      ],
      "metadata": {
        "id": "PquTrvw-ybm-"
      },
      "execution_count": null,
      "outputs": []
    },
    {
      "cell_type": "markdown",
      "source": [
        "大道之行也\n",
        "天  下為公\n",
        " 選賢與能\n",
        "講信  修睦\n",
        "故人不獨親其親\n",
        "不獨子其子\n",
        "使老有所終\n",
        "壯有 所用\n",
        "幼有 所長\n",
        "矜寡孤獨廢疾者\n",
        "皆有所養\n",
        "男有分 女有歸\n",
        "貨惡其棄 於地也不必藏於  己\n",
        "力惡其不  出於身也不必為己\n",
        "是故 謀閉而不興 \n",
        "盜竊亂賊而不作\n",
        "故外戶而 不閉\n",
        "是謂「大同」"
      ],
      "metadata": {
        "id": "sNbUvCE-yo-h"
      }
    },
    {
      "cell_type": "code",
      "source": [
        "a=' 大道之行也，天  下為公。 選賢與能，講信  修睦。故人不獨親其親，不獨子其子；使老有所終，壯有 所用，幼有 所長，矜寡孤獨廢疾者，皆有所養；男有分 女有歸。貨惡其棄 於地也不必藏於  己；力惡其不  出於身也不必為己。是故 謀閉而不興 ，盜竊亂賊而不作，故外戶而 不閉，是謂「大同」。'\n",
        "b = a.count('不')\n",
        "print(b)  "
      ],
      "metadata": {
        "id": "wScWFPVeyuQI"
      },
      "execution_count": null,
      "outputs": []
    },
    {
      "cell_type": "markdown",
      "source": [
        "8"
      ],
      "metadata": {
        "id": "vgLT-J94yzUp"
      }
    }
  ]
}