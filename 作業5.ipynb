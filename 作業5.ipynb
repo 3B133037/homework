{
  "nbformat": 4,
  "nbformat_minor": 0,
  "metadata": {
    "colab": {
      "provenance": [],
      "authorship_tag": "ABX9TyPqiYF68gWfRDOMyPRSbtYw",
      "include_colab_link": true
    },
    "kernelspec": {
      "name": "python3",
      "display_name": "Python 3"
    },
    "language_info": {
      "name": "python"
    }
  },
  "cells": [
    {
      "cell_type": "markdown",
      "metadata": {
        "id": "view-in-github",
        "colab_type": "text"
      },
      "source": [
        "<a href=\"https://colab.research.google.com/github/3B133037/homework/blob/main/%E4%BD%9C%E6%A5%AD5.ipynb\" target=\"_parent\"><img src=\"https://colab.research.google.com/assets/colab-badge.svg\" alt=\"Open In Colab\"/></a>"
      ]
    },
    {
      "cell_type": "code",
      "execution_count": null,
      "metadata": {
        "id": "QBmhEugT5rr6"
      },
      "outputs": [],
      "source": [
        "import numpy as np\n",
        "import matplotlib.pyplot as plt\n",
        "# 定义函数\n",
        "def f(x):\n",
        "    return -2*x**2+4*x+5\n",
        "x = np.linspace(1,500)\n",
        "# 计算对应的 y 值\n",
        "y = f(x)\n",
        "# 找到最高和最低点\n",
        "x_highest = x[np.argmax(y)]\n",
        "y_highest = np.max(y)\n",
        "x_lowest = x[np.argmin(y)]\n",
        "y_lowest = np.min(y)\n",
        "# 绘制函数曲线\n",
        "plt.plot(x, y, label='f(x)=-2x^2 + 4x + 5')\n",
        "# 绘制最高点和最低点\n",
        "plt.scatter(x_highest, y_highest, color='red', label='Highest Point')\n",
        "plt.scatter(x_lowest, y_lowest, color='blue', label='Lowest Point')\n",
        "plt.plot(x,y)\n",
        "\n",
        "plt.axhline(y=0)#x軸\n",
        "plt.axvline(x=0)#y軸\n",
        "plt.show()"
      ]
    },
    {
      "cell_type": "markdown",
      "source": [],
      "metadata": {
        "id": "zlA4RdNc6Zs2"
      }
    },
    {
      "cell_type": "code",
      "source": [
        "import numpy as np\n",
        "import matplotlib.pyplot as plt\n",
        "# 定义函数\n",
        "def f(x):\n",
        "    return 3*x**2+2*x-6\n",
        "x = np.linspace(1,500)\n",
        "# 计算对应的 y 值\n",
        "y = f(x)\n",
        "# 找到最高和最低点\n",
        "x_highest = x[np.argmax(y)]\n",
        "y_highest = np.max(y)\n",
        "x_lowest = x[np.argmin(y)]\n",
        "y_lowest = np.min(y)\n",
        "# 绘制函数曲线\n",
        "plt.plot(x, y, label='f(x)=3x^2 + 2x -6')\n",
        "# 绘制最高点和最低点\n",
        "plt.scatter(x_highest, y_highest, color='red', label='Highest Point')\n",
        "plt.scatter(x_lowest, y_lowest, color='blue', label='Lowest Point')\n",
        "plt.plot(x,y)\n",
        "\n",
        "plt.axhline(y=0)#x軸\n",
        "plt.axvline(x=0)#y軸\n",
        "plt.show()"
      ],
      "metadata": {
        "id": "9K3O7pwe6BwY"
      },
      "execution_count": null,
      "outputs": []
    }
  ]
}